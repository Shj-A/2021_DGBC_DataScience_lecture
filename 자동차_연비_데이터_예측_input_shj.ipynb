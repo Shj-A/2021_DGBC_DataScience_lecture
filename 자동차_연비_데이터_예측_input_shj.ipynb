{
  "nbformat": 4,
  "nbformat_minor": 0,
  "metadata": {
    "kernelspec": {
      "display_name": "Python 3",
      "language": "python",
      "name": "python3"
    },
    "language_info": {
      "codemirror_mode": {
        "name": "ipython",
        "version": 3
      },
      "file_extension": ".py",
      "mimetype": "text/x-python",
      "name": "python",
      "nbconvert_exporter": "python",
      "pygments_lexer": "ipython3",
      "version": "3.7.6"
    },
    "toc": {
      "base_numbering": 1,
      "nav_menu": {},
      "number_sections": true,
      "sideBar": true,
      "skip_h1_title": false,
      "title_cell": "Table of Contents",
      "title_sidebar": "Contents",
      "toc_cell": false,
      "toc_position": {},
      "toc_section_display": true,
      "toc_window_display": false
    },
    "varInspector": {
      "cols": {
        "lenName": 16,
        "lenType": 16,
        "lenVar": 40
      },
      "kernels_config": {
        "python": {
          "delete_cmd_postfix": "",
          "delete_cmd_prefix": "del ",
          "library": "var_list.py",
          "varRefreshCmd": "print(var_dic_list())"
        },
        "r": {
          "delete_cmd_postfix": ") ",
          "delete_cmd_prefix": "rm(",
          "library": "var_list.r",
          "varRefreshCmd": "cat(var_dic_list()) "
        }
      },
      "types_to_exclude": [
        "module",
        "function",
        "builtin_function_or_method",
        "instance",
        "_Feature"
      ],
      "window_display": false
    },
    "colab": {
      "name": "6. 텐서플로를 통한 자동차 연비 데이터 예측-input_shj.ipynb",
      "provenance": [],
      "collapsed_sections": [],
      "include_colab_link": true
    }
  },
  "cells": [
    {
      "cell_type": "markdown",
      "metadata": {
        "id": "view-in-github",
        "colab_type": "text"
      },
      "source": [
        "<a href=\"https://colab.research.google.com/github/Shj-A/2021_DGBC_DataScience_lecture/blob/main/%EC%9E%90%EB%8F%99%EC%B0%A8_%EC%97%B0%EB%B9%84_%EB%8D%B0%EC%9D%B4%ED%84%B0_%EC%98%88%EC%B8%A1_input_shj.ipynb\" target=\"_parent\"><img src=\"https://colab.research.google.com/assets/colab-badge.svg\" alt=\"Open In Colab\"/></a>"
      ]
    },
    {
      "cell_type": "markdown",
      "metadata": {
        "id": "xweBC53yoA7u"
      },
      "source": [
        "## 텐서플로를 통한 자동차 연비 예측하기\n",
        "* 참고 : [자동차 연비 예측하기: 회귀  |  TensorFlow Core](https://www.tensorflow.org/tutorials/keras/regression)"
      ]
    },
    {
      "cell_type": "markdown",
      "metadata": {
        "id": "SBZnWvW1oA7y"
      },
      "source": [
        "## 필요 도구 가져오기"
      ]
    },
    {
      "cell_type": "code",
      "metadata": {
        "id": "DvYRBuAeoA7z"
      },
      "source": [
        "# 데이터 분석을 위한 pandas, 시각화를 위한 seaborn 불러오기\n",
        "import pandas as pd\n",
        "import seaborn as sns"
      ],
      "execution_count": null,
      "outputs": []
    },
    {
      "cell_type": "markdown",
      "metadata": {
        "id": "AvXOr66yoA70"
      },
      "source": [
        "## 데이터셋 로드"
      ]
    },
    {
      "cell_type": "code",
      "metadata": {
        "id": "mThDdFd3oA71",
        "colab": {
          "base_uri": "https://localhost:8080/"
        },
        "outputId": "fa9c73de-9b29-45fd-973a-737b54b9b179"
      },
      "source": [
        "# 자동차연비 데이터셋인 mpg 데이터셋을 불러옵니다.\n",
        "ds = sns.load_dataset(\"mpg\")\n",
        "ds.shape"
      ],
      "execution_count": null,
      "outputs": [
        {
          "output_type": "execute_result",
          "data": {
            "text/plain": [
              "(398, 9)"
            ]
          },
          "metadata": {
            "tags": []
          },
          "execution_count": 25
        }
      ]
    },
    {
      "cell_type": "markdown",
      "metadata": {
        "id": "W4pgdPLToA72"
      },
      "source": [
        "## 결측치 확인"
      ]
    },
    {
      "cell_type": "code",
      "metadata": {
        "id": "klhizQfyoA73",
        "colab": {
          "base_uri": "https://localhost:8080/"
        },
        "outputId": "2b6afacc-7001-4e9e-c867-9a4b7e6b7fbc"
      },
      "source": [
        "# 결측치의 합계 구하기\n",
        "ds.isnull().sum()"
      ],
      "execution_count": null,
      "outputs": [
        {
          "output_type": "execute_result",
          "data": {
            "text/plain": [
              "mpg             0\n",
              "cylinders       0\n",
              "displacement    0\n",
              "horsepower      6\n",
              "weight          0\n",
              "acceleration    0\n",
              "model_year      0\n",
              "origin          0\n",
              "name            0\n",
              "dtype: int64"
            ]
          },
          "metadata": {
            "tags": []
          },
          "execution_count": 26
        }
      ]
    },
    {
      "cell_type": "markdown",
      "metadata": {
        "id": "qPv2kzUroA74"
      },
      "source": [
        "## 결측치 제거"
      ]
    },
    {
      "cell_type": "code",
      "metadata": {
        "id": "rd9Jrj3eoA76",
        "colab": {
          "base_uri": "https://localhost:8080/"
        },
        "outputId": "fc35aae5-76d6-4f44-b624-e42615d0cb79"
      },
      "source": [
        "# dropna로 결측치를 제거합니다.\n",
        "df = ds.dropna()\n",
        "df.shape"
      ],
      "execution_count": null,
      "outputs": [
        {
          "output_type": "execute_result",
          "data": {
            "text/plain": [
              "(392, 9)"
            ]
          },
          "metadata": {
            "tags": []
          },
          "execution_count": 27
        }
      ]
    },
    {
      "cell_type": "markdown",
      "metadata": {
        "id": "bYSiahJqoA78"
      },
      "source": [
        "## 수치 데이터만 가져오기\n",
        "* 머신러닝이나 딥러닝 모델은 내부에서 수치계산을 하기 때문에 숫자가 아닌 데이터를 넣어주면 모델이 학습과 예측을 할 수 없습니다."
      ]
    },
    {
      "cell_type": "code",
      "metadata": {
        "id": "WbXGo_UvoA79",
        "colab": {
          "base_uri": "https://localhost:8080/"
        },
        "outputId": "c2d12ed4-92c0-4a5c-9939-7e4818c85247"
      },
      "source": [
        "# select_dtypes 를 통해 object 타입을 제외하고 가져옵니다.\n",
        "df = df.select_dtypes(exclude=\"object\")\n",
        "df.shape"
      ],
      "execution_count": null,
      "outputs": [
        {
          "output_type": "execute_result",
          "data": {
            "text/plain": [
              "(392, 7)"
            ]
          },
          "metadata": {
            "tags": []
          },
          "execution_count": 28
        }
      ]
    },
    {
      "cell_type": "markdown",
      "metadata": {
        "id": "sj_L63QjoA79"
      },
      "source": [
        "## 전체 데이터에 대한 기술 통계 확인"
      ]
    },
    {
      "cell_type": "code",
      "metadata": {
        "id": "pKASQczdoA7-",
        "colab": {
          "base_uri": "https://localhost:8080/",
          "height": 295
        },
        "outputId": "0596976a-b8cb-457b-faba-aed80692711d"
      },
      "source": [
        "# describe 를 통해 기술 통계값을 확인합니다.\n",
        "df.describe(include=\"all\")"
      ],
      "execution_count": null,
      "outputs": [
        {
          "output_type": "execute_result",
          "data": {
            "text/html": [
              "<div>\n",
              "<style scoped>\n",
              "    .dataframe tbody tr th:only-of-type {\n",
              "        vertical-align: middle;\n",
              "    }\n",
              "\n",
              "    .dataframe tbody tr th {\n",
              "        vertical-align: top;\n",
              "    }\n",
              "\n",
              "    .dataframe thead th {\n",
              "        text-align: right;\n",
              "    }\n",
              "</style>\n",
              "<table border=\"1\" class=\"dataframe\">\n",
              "  <thead>\n",
              "    <tr style=\"text-align: right;\">\n",
              "      <th></th>\n",
              "      <th>mpg</th>\n",
              "      <th>cylinders</th>\n",
              "      <th>displacement</th>\n",
              "      <th>horsepower</th>\n",
              "      <th>weight</th>\n",
              "      <th>acceleration</th>\n",
              "      <th>model_year</th>\n",
              "    </tr>\n",
              "  </thead>\n",
              "  <tbody>\n",
              "    <tr>\n",
              "      <th>count</th>\n",
              "      <td>392.000000</td>\n",
              "      <td>392.000000</td>\n",
              "      <td>392.000000</td>\n",
              "      <td>392.000000</td>\n",
              "      <td>392.000000</td>\n",
              "      <td>392.000000</td>\n",
              "      <td>392.000000</td>\n",
              "    </tr>\n",
              "    <tr>\n",
              "      <th>mean</th>\n",
              "      <td>23.445918</td>\n",
              "      <td>5.471939</td>\n",
              "      <td>194.411990</td>\n",
              "      <td>104.469388</td>\n",
              "      <td>2977.584184</td>\n",
              "      <td>15.541327</td>\n",
              "      <td>75.979592</td>\n",
              "    </tr>\n",
              "    <tr>\n",
              "      <th>std</th>\n",
              "      <td>7.805007</td>\n",
              "      <td>1.705783</td>\n",
              "      <td>104.644004</td>\n",
              "      <td>38.491160</td>\n",
              "      <td>849.402560</td>\n",
              "      <td>2.758864</td>\n",
              "      <td>3.683737</td>\n",
              "    </tr>\n",
              "    <tr>\n",
              "      <th>min</th>\n",
              "      <td>9.000000</td>\n",
              "      <td>3.000000</td>\n",
              "      <td>68.000000</td>\n",
              "      <td>46.000000</td>\n",
              "      <td>1613.000000</td>\n",
              "      <td>8.000000</td>\n",
              "      <td>70.000000</td>\n",
              "    </tr>\n",
              "    <tr>\n",
              "      <th>25%</th>\n",
              "      <td>17.000000</td>\n",
              "      <td>4.000000</td>\n",
              "      <td>105.000000</td>\n",
              "      <td>75.000000</td>\n",
              "      <td>2225.250000</td>\n",
              "      <td>13.775000</td>\n",
              "      <td>73.000000</td>\n",
              "    </tr>\n",
              "    <tr>\n",
              "      <th>50%</th>\n",
              "      <td>22.750000</td>\n",
              "      <td>4.000000</td>\n",
              "      <td>151.000000</td>\n",
              "      <td>93.500000</td>\n",
              "      <td>2803.500000</td>\n",
              "      <td>15.500000</td>\n",
              "      <td>76.000000</td>\n",
              "    </tr>\n",
              "    <tr>\n",
              "      <th>75%</th>\n",
              "      <td>29.000000</td>\n",
              "      <td>8.000000</td>\n",
              "      <td>275.750000</td>\n",
              "      <td>126.000000</td>\n",
              "      <td>3614.750000</td>\n",
              "      <td>17.025000</td>\n",
              "      <td>79.000000</td>\n",
              "    </tr>\n",
              "    <tr>\n",
              "      <th>max</th>\n",
              "      <td>46.600000</td>\n",
              "      <td>8.000000</td>\n",
              "      <td>455.000000</td>\n",
              "      <td>230.000000</td>\n",
              "      <td>5140.000000</td>\n",
              "      <td>24.800000</td>\n",
              "      <td>82.000000</td>\n",
              "    </tr>\n",
              "  </tbody>\n",
              "</table>\n",
              "</div>"
            ],
            "text/plain": [
              "              mpg   cylinders  ...  acceleration  model_year\n",
              "count  392.000000  392.000000  ...    392.000000  392.000000\n",
              "mean    23.445918    5.471939  ...     15.541327   75.979592\n",
              "std      7.805007    1.705783  ...      2.758864    3.683737\n",
              "min      9.000000    3.000000  ...      8.000000   70.000000\n",
              "25%     17.000000    4.000000  ...     13.775000   73.000000\n",
              "50%     22.750000    4.000000  ...     15.500000   76.000000\n",
              "75%     29.000000    8.000000  ...     17.025000   79.000000\n",
              "max     46.600000    8.000000  ...     24.800000   82.000000\n",
              "\n",
              "[8 rows x 7 columns]"
            ]
          },
          "metadata": {
            "tags": []
          },
          "execution_count": 29
        }
      ]
    },
    {
      "cell_type": "markdown",
      "metadata": {
        "id": "Ghfv2VDBoA7_"
      },
      "source": [
        "## 데이터셋 나누기"
      ]
    },
    {
      "cell_type": "code",
      "metadata": {
        "id": "v4uT__BvoA8A",
        "colab": {
          "base_uri": "https://localhost:8080/"
        },
        "outputId": "f9abed07-e0b2-43b5-f9e0-d45ffd14fd6a"
      },
      "source": [
        "# 전체 데이터프레임에서 df, train, test를 분리합니다.\n",
        "# train_dataset : 학습에 사용 (예: 기출문제)\n",
        "# test_dataset : 실제 예측에 사용 (예 : 실전문제)\n",
        "# 기출문제로 공부하고 실전 시험을 보는 과정과 유사합니다.\n",
        "train_dataset = df.sample(frac=0.8, random_state=42)\n",
        "test_dataset = df.drop(train_dataset.index)\n",
        "train_dataset.shape"
      ],
      "execution_count": null,
      "outputs": [
        {
          "output_type": "execute_result",
          "data": {
            "text/plain": [
              "(314, 7)"
            ]
          },
          "metadata": {
            "tags": []
          },
          "execution_count": 30
        }
      ]
    },
    {
      "cell_type": "code",
      "metadata": {
        "colab": {
          "base_uri": "https://localhost:8080/"
        },
        "id": "hmAByIP3qJf7",
        "outputId": "71ce6f0b-656c-4628-ab10-9604c975e822"
      },
      "source": [
        "test_dataset.shape"
      ],
      "execution_count": null,
      "outputs": [
        {
          "output_type": "execute_result",
          "data": {
            "text/plain": [
              "(78, 7)"
            ]
          },
          "metadata": {
            "tags": []
          },
          "execution_count": 31
        }
      ]
    },
    {
      "cell_type": "code",
      "metadata": {
        "id": "nvEhMo92oA8B",
        "colab": {
          "base_uri": "https://localhost:8080/"
        },
        "outputId": "3e87bd08-7f81-439b-eb66-04bea068d4db"
      },
      "source": [
        "# train_dataset, test_dataset 에서 label(정답) 값을 꺼내 label 을 따로 생성합니다.\n",
        "# 문제에서 정답을 분리하는 과정입니다.\n",
        "# train_labels : train_dataset(예: 기출문제) 에서 정답을 꺼내서 분리합니다.\n",
        "# test_labels : test_labels(예: 실전문제) 에서 정답을 꺼내서 분리합니다.\n",
        "train_labels = train_dataset.pop(\"mpg\")\n",
        "train_labels "
      ],
      "execution_count": null,
      "outputs": [
        {
          "output_type": "execute_result",
          "data": {
            "text/plain": [
              "79     26.0\n",
              "276    21.6\n",
              "248    36.1\n",
              "56     26.0\n",
              "393    27.0\n",
              "       ... \n",
              "218    36.0\n",
              "281    19.8\n",
              "342    30.0\n",
              "238    33.5\n",
              "209    19.0\n",
              "Name: mpg, Length: 314, dtype: float64"
            ]
          },
          "metadata": {
            "tags": []
          },
          "execution_count": 32
        }
      ]
    },
    {
      "cell_type": "code",
      "metadata": {
        "colab": {
          "base_uri": "https://localhost:8080/"
        },
        "id": "AISmz-DhrEkC",
        "outputId": "61c3c6ca-05fd-43e6-f953-1a1eaab8c659"
      },
      "source": [
        "test_label = test_dataset.pop(\"mpg\")\n",
        "test_label.shape"
      ],
      "execution_count": null,
      "outputs": [
        {
          "output_type": "execute_result",
          "data": {
            "text/plain": [
              "(78,)"
            ]
          },
          "metadata": {
            "tags": []
          },
          "execution_count": 33
        }
      ]
    },
    {
      "cell_type": "code",
      "metadata": {
        "colab": {
          "base_uri": "https://localhost:8080/"
        },
        "id": "9EbGuUt9rOLQ",
        "outputId": "e62f2b1c-2916-4344-b965-c10e070730ea"
      },
      "source": [
        "# dataset의 형태를 다시 찍어보면 위에서 pop시킨 mpg열이 없어졌으므로 6열로 줄어든 것을 확인할 수 있다.\n",
        "train_dataset.shape,test_dataset.shape"
      ],
      "execution_count": null,
      "outputs": [
        {
          "output_type": "execute_result",
          "data": {
            "text/plain": [
              "((314, 6), (78, 6))"
            ]
          },
          "metadata": {
            "tags": []
          },
          "execution_count": 35
        }
      ]
    },
    {
      "cell_type": "markdown",
      "metadata": {
        "id": "RRW5TspSoA8B"
      },
      "source": [
        "## 딥러닝 모델 만들기\n",
        "<img src=\"https://cs231n.github.io/assets/nn1/neural_net.jpeg\" width=\"30%\"> <img src=\"https://cs231n.github.io/assets/nn1/neural_net2.jpeg\" width=\"40%\">\n",
        "\n",
        "* 이미지 출처 : https://cs231n.github.io/neural-networks-1/\n",
        "\n",
        "* 두 개의 완전 연결(densely connected) 은닉층으로 Sequential 모델을 만들겠습니다. \n",
        "* 출력 층은 하나의 연속적인 값을 반환합니다. "
      ]
    },
    {
      "cell_type": "code",
      "metadata": {
        "id": "hvoZIuAZoA8C",
        "colab": {
          "base_uri": "https://localhost:8080/",
          "height": 35
        },
        "outputId": "fa3fbf60-6e8f-45c2-cf79-71f93e3e4053"
      },
      "source": [
        "# tensorflow 를 불러옵니다.\n",
        "import tensorflow as tf\n",
        "tf.__version__"
      ],
      "execution_count": null,
      "outputs": [
        {
          "output_type": "execute_result",
          "data": {
            "application/vnd.google.colaboratory.intrinsic+json": {
              "type": "string"
            },
            "text/plain": [
              "'2.5.0'"
            ]
          },
          "metadata": {
            "tags": []
          },
          "execution_count": 37
        }
      ]
    },
    {
      "cell_type": "markdown",
      "metadata": {
        "id": "FUrL4u_joA8C"
      },
      "source": [
        "### 딥러닝 층 구성"
      ]
    },
    {
      "cell_type": "code",
      "metadata": {
        "id": "adWB2sJVoA8C"
      },
      "source": [
        "model = tf.keras.Sequential()\n",
        "model.add(tf.keras.layers.Dense(64, activation=\"relu\", input_shape=[len(train_dataset.keys())]))\n",
        "model.add(tf.keras.layers.Dense(64,activation=\"relu\"))\n",
        "model.add(tf.keras.layers.Dense(64,activation=\"relu\"))\n",
        "model.add(tf.keras.layers.Dense(1))"
      ],
      "execution_count": null,
      "outputs": []
    },
    {
      "cell_type": "markdown",
      "metadata": {
        "id": "K8ji0yhjoA8C"
      },
      "source": [
        "### 모델 컴파일"
      ]
    },
    {
      "cell_type": "code",
      "metadata": {
        "id": "YJGmM2vCoA8D"
      },
      "source": [
        "model.compile(loss=\"mse\", metrics=[\"mae\", \"mse\"])"
      ],
      "execution_count": null,
      "outputs": []
    },
    {
      "cell_type": "markdown",
      "metadata": {
        "id": "aiFpLnA4oA8D"
      },
      "source": [
        "### 만든 모델 확인하기"
      ]
    },
    {
      "cell_type": "code",
      "metadata": {
        "scrolled": true,
        "id": "7yVpfdtmoA8D",
        "colab": {
          "base_uri": "https://localhost:8080/"
        },
        "outputId": "64d651d0-7fba-4a04-8d61-16a51e137aaf"
      },
      "source": [
        "model.summary()"
      ],
      "execution_count": null,
      "outputs": [
        {
          "output_type": "stream",
          "text": [
            "Model: \"sequential_2\"\n",
            "_________________________________________________________________\n",
            "Layer (type)                 Output Shape              Param #   \n",
            "=================================================================\n",
            "dense_7 (Dense)              (None, 64)                448       \n",
            "_________________________________________________________________\n",
            "dense_8 (Dense)              (None, 64)                4160      \n",
            "_________________________________________________________________\n",
            "dense_9 (Dense)              (None, 64)                4160      \n",
            "_________________________________________________________________\n",
            "dense_10 (Dense)             (None, 1)                 65        \n",
            "=================================================================\n",
            "Total params: 8,833\n",
            "Trainable params: 8,833\n",
            "Non-trainable params: 0\n",
            "_________________________________________________________________\n"
          ],
          "name": "stdout"
        }
      ]
    },
    {
      "cell_type": "markdown",
      "metadata": {
        "id": "DW8hjkiwoA8D"
      },
      "source": [
        "## 딥러닝 모델로 학습하기"
      ]
    },
    {
      "cell_type": "code",
      "metadata": {
        "id": "6nRZneQ2oA8D",
        "colab": {
          "base_uri": "https://localhost:8080/"
        },
        "outputId": "44fea058-6f56-45ad-b8ab-574cd61c23b5"
      },
      "source": [
        "model.fit(train_dataset, train_labels, epochs= 100, verbose=1)"
      ],
      "execution_count": null,
      "outputs": [
        {
          "output_type": "stream",
          "text": [
            "Epoch 1/100\n",
            "10/10 [==============================] - 0s 2ms/step - loss: 35.7662 - mae: 4.6957 - mse: 35.7662\n",
            "Epoch 2/100\n",
            "10/10 [==============================] - 0s 2ms/step - loss: 41.0872 - mae: 5.0641 - mse: 41.0872\n",
            "Epoch 3/100\n",
            "10/10 [==============================] - 0s 2ms/step - loss: 44.2158 - mae: 5.3559 - mse: 44.2158\n",
            "Epoch 4/100\n",
            "10/10 [==============================] - 0s 2ms/step - loss: 40.9903 - mae: 5.1546 - mse: 40.9903\n",
            "Epoch 5/100\n",
            "10/10 [==============================] - 0s 2ms/step - loss: 42.6330 - mae: 5.1865 - mse: 42.6330\n",
            "Epoch 6/100\n",
            "10/10 [==============================] - 0s 2ms/step - loss: 41.4404 - mae: 5.1133 - mse: 41.4404\n",
            "Epoch 7/100\n",
            "10/10 [==============================] - 0s 2ms/step - loss: 26.6824 - mae: 3.9497 - mse: 26.6824\n",
            "Epoch 8/100\n",
            "10/10 [==============================] - 0s 3ms/step - loss: 45.8011 - mae: 5.2967 - mse: 45.8011\n",
            "Epoch 9/100\n",
            "10/10 [==============================] - 0s 3ms/step - loss: 35.6469 - mae: 4.6623 - mse: 35.6469\n",
            "Epoch 10/100\n",
            "10/10 [==============================] - 0s 3ms/step - loss: 39.6885 - mae: 5.0078 - mse: 39.6885\n",
            "Epoch 11/100\n",
            "10/10 [==============================] - 0s 3ms/step - loss: 45.2961 - mae: 5.0702 - mse: 45.2961\n",
            "Epoch 12/100\n",
            "10/10 [==============================] - 0s 2ms/step - loss: 37.4658 - mae: 4.7269 - mse: 37.4658\n",
            "Epoch 13/100\n",
            "10/10 [==============================] - 0s 2ms/step - loss: 40.2489 - mae: 4.9654 - mse: 40.2489\n",
            "Epoch 14/100\n",
            "10/10 [==============================] - 0s 2ms/step - loss: 39.2575 - mae: 4.9302 - mse: 39.2575\n",
            "Epoch 15/100\n",
            "10/10 [==============================] - 0s 3ms/step - loss: 40.3907 - mae: 4.8056 - mse: 40.3907\n",
            "Epoch 16/100\n",
            "10/10 [==============================] - 0s 2ms/step - loss: 38.2350 - mae: 4.8002 - mse: 38.2350\n",
            "Epoch 17/100\n",
            "10/10 [==============================] - 0s 2ms/step - loss: 36.8246 - mae: 4.7416 - mse: 36.8246\n",
            "Epoch 18/100\n",
            "10/10 [==============================] - 0s 2ms/step - loss: 41.9357 - mae: 5.0773 - mse: 41.9357\n",
            "Epoch 19/100\n",
            "10/10 [==============================] - 0s 2ms/step - loss: 33.8020 - mae: 4.7507 - mse: 33.8020\n",
            "Epoch 20/100\n",
            "10/10 [==============================] - 0s 2ms/step - loss: 39.3108 - mae: 4.8382 - mse: 39.3108\n",
            "Epoch 21/100\n",
            "10/10 [==============================] - 0s 2ms/step - loss: 47.6774 - mae: 5.2285 - mse: 47.6774\n",
            "Epoch 22/100\n",
            "10/10 [==============================] - 0s 2ms/step - loss: 35.1928 - mae: 4.6370 - mse: 35.1928\n",
            "Epoch 23/100\n",
            "10/10 [==============================] - 0s 2ms/step - loss: 33.5341 - mae: 4.6482 - mse: 33.5341\n",
            "Epoch 24/100\n",
            "10/10 [==============================] - 0s 2ms/step - loss: 30.9564 - mae: 4.2269 - mse: 30.9564\n",
            "Epoch 25/100\n",
            "10/10 [==============================] - 0s 2ms/step - loss: 41.9932 - mae: 5.0906 - mse: 41.9932\n",
            "Epoch 26/100\n",
            "10/10 [==============================] - 0s 2ms/step - loss: 37.2219 - mae: 4.6870 - mse: 37.2219\n",
            "Epoch 27/100\n",
            "10/10 [==============================] - 0s 2ms/step - loss: 27.5920 - mae: 4.0729 - mse: 27.5920\n",
            "Epoch 28/100\n",
            "10/10 [==============================] - 0s 2ms/step - loss: 38.4426 - mae: 4.8391 - mse: 38.4426\n",
            "Epoch 29/100\n",
            "10/10 [==============================] - 0s 2ms/step - loss: 35.3971 - mae: 4.6581 - mse: 35.3971\n",
            "Epoch 30/100\n",
            "10/10 [==============================] - 0s 2ms/step - loss: 41.1280 - mae: 5.0272 - mse: 41.1280\n",
            "Epoch 31/100\n",
            "10/10 [==============================] - 0s 3ms/step - loss: 25.0726 - mae: 3.9132 - mse: 25.0726\n",
            "Epoch 32/100\n",
            "10/10 [==============================] - 0s 2ms/step - loss: 45.2477 - mae: 5.4732 - mse: 45.2477\n",
            "Epoch 33/100\n",
            "10/10 [==============================] - 0s 2ms/step - loss: 32.7420 - mae: 4.2752 - mse: 32.7420\n",
            "Epoch 34/100\n",
            "10/10 [==============================] - 0s 2ms/step - loss: 27.4525 - mae: 3.9663 - mse: 27.4525\n",
            "Epoch 35/100\n",
            "10/10 [==============================] - 0s 2ms/step - loss: 35.8800 - mae: 4.8938 - mse: 35.8800\n",
            "Epoch 36/100\n",
            "10/10 [==============================] - 0s 2ms/step - loss: 31.0024 - mae: 4.3114 - mse: 31.0024\n",
            "Epoch 37/100\n",
            "10/10 [==============================] - 0s 2ms/step - loss: 17.0209 - mae: 3.1493 - mse: 17.0209\n",
            "Epoch 38/100\n",
            "10/10 [==============================] - 0s 2ms/step - loss: 41.5545 - mae: 5.2211 - mse: 41.5545\n",
            "Epoch 39/100\n",
            "10/10 [==============================] - 0s 3ms/step - loss: 35.5035 - mae: 4.7680 - mse: 35.5035\n",
            "Epoch 40/100\n",
            "10/10 [==============================] - 0s 3ms/step - loss: 18.1961 - mae: 3.1950 - mse: 18.1961\n",
            "Epoch 41/100\n",
            "10/10 [==============================] - 0s 2ms/step - loss: 42.8479 - mae: 5.1282 - mse: 42.8479\n",
            "Epoch 42/100\n",
            "10/10 [==============================] - 0s 2ms/step - loss: 16.6084 - mae: 3.1630 - mse: 16.6084\n",
            "Epoch 43/100\n",
            "10/10 [==============================] - 0s 2ms/step - loss: 43.1724 - mae: 4.9936 - mse: 43.1724\n",
            "Epoch 44/100\n",
            "10/10 [==============================] - 0s 3ms/step - loss: 42.3738 - mae: 4.9675 - mse: 42.3738\n",
            "Epoch 45/100\n",
            "10/10 [==============================] - 0s 2ms/step - loss: 28.1600 - mae: 4.0533 - mse: 28.1600\n",
            "Epoch 46/100\n",
            "10/10 [==============================] - 0s 2ms/step - loss: 31.7651 - mae: 4.5410 - mse: 31.7651\n",
            "Epoch 47/100\n",
            "10/10 [==============================] - 0s 2ms/step - loss: 21.4631 - mae: 3.5616 - mse: 21.4631\n",
            "Epoch 48/100\n",
            "10/10 [==============================] - 0s 2ms/step - loss: 31.6290 - mae: 4.3299 - mse: 31.6290\n",
            "Epoch 49/100\n",
            "10/10 [==============================] - 0s 3ms/step - loss: 29.9188 - mae: 4.1749 - mse: 29.9188\n",
            "Epoch 50/100\n",
            "10/10 [==============================] - 0s 2ms/step - loss: 33.4738 - mae: 4.4284 - mse: 33.4738\n",
            "Epoch 51/100\n",
            "10/10 [==============================] - 0s 2ms/step - loss: 26.8470 - mae: 4.0362 - mse: 26.8470\n",
            "Epoch 52/100\n",
            "10/10 [==============================] - 0s 2ms/step - loss: 34.9933 - mae: 4.5450 - mse: 34.9933\n",
            "Epoch 53/100\n",
            "10/10 [==============================] - 0s 3ms/step - loss: 35.3141 - mae: 4.4997 - mse: 35.3141\n",
            "Epoch 54/100\n",
            "10/10 [==============================] - 0s 2ms/step - loss: 30.6154 - mae: 4.3865 - mse: 30.6154\n",
            "Epoch 55/100\n",
            "10/10 [==============================] - 0s 2ms/step - loss: 41.1708 - mae: 5.1472 - mse: 41.1708\n",
            "Epoch 56/100\n",
            "10/10 [==============================] - 0s 3ms/step - loss: 15.7703 - mae: 3.0222 - mse: 15.7703\n",
            "Epoch 57/100\n",
            "10/10 [==============================] - 0s 2ms/step - loss: 28.7135 - mae: 4.1724 - mse: 28.7135\n",
            "Epoch 58/100\n",
            "10/10 [==============================] - 0s 2ms/step - loss: 34.6091 - mae: 4.4909 - mse: 34.6091\n",
            "Epoch 59/100\n",
            "10/10 [==============================] - 0s 3ms/step - loss: 27.3041 - mae: 4.1733 - mse: 27.3041\n",
            "Epoch 60/100\n",
            "10/10 [==============================] - 0s 2ms/step - loss: 35.6011 - mae: 4.8487 - mse: 35.6011\n",
            "Epoch 61/100\n",
            "10/10 [==============================] - 0s 3ms/step - loss: 27.7617 - mae: 4.3045 - mse: 27.7617\n",
            "Epoch 62/100\n",
            "10/10 [==============================] - 0s 2ms/step - loss: 25.8164 - mae: 3.9651 - mse: 25.8164\n",
            "Epoch 63/100\n",
            "10/10 [==============================] - 0s 2ms/step - loss: 35.6251 - mae: 4.6821 - mse: 35.6251\n",
            "Epoch 64/100\n",
            "10/10 [==============================] - 0s 2ms/step - loss: 22.5691 - mae: 3.6946 - mse: 22.5691\n",
            "Epoch 65/100\n",
            "10/10 [==============================] - 0s 3ms/step - loss: 26.3143 - mae: 3.8568 - mse: 26.3143\n",
            "Epoch 66/100\n",
            "10/10 [==============================] - 0s 2ms/step - loss: 32.9829 - mae: 4.6869 - mse: 32.9829\n",
            "Epoch 67/100\n",
            "10/10 [==============================] - 0s 2ms/step - loss: 24.2289 - mae: 3.7377 - mse: 24.2289\n",
            "Epoch 68/100\n",
            "10/10 [==============================] - 0s 2ms/step - loss: 29.6252 - mae: 4.3570 - mse: 29.6252\n",
            "Epoch 69/100\n",
            "10/10 [==============================] - 0s 3ms/step - loss: 27.0659 - mae: 4.2001 - mse: 27.0659\n",
            "Epoch 70/100\n",
            "10/10 [==============================] - 0s 2ms/step - loss: 31.1627 - mae: 4.3526 - mse: 31.1627\n",
            "Epoch 71/100\n",
            "10/10 [==============================] - 0s 2ms/step - loss: 13.7806 - mae: 2.7984 - mse: 13.7806\n",
            "Epoch 72/100\n",
            "10/10 [==============================] - 0s 3ms/step - loss: 34.2042 - mae: 4.2733 - mse: 34.2042\n",
            "Epoch 73/100\n",
            "10/10 [==============================] - 0s 2ms/step - loss: 27.9473 - mae: 4.0330 - mse: 27.9473\n",
            "Epoch 74/100\n",
            "10/10 [==============================] - 0s 2ms/step - loss: 28.9549 - mae: 4.1542 - mse: 28.9549\n",
            "Epoch 75/100\n",
            "10/10 [==============================] - 0s 2ms/step - loss: 33.8512 - mae: 4.6213 - mse: 33.8512\n",
            "Epoch 76/100\n",
            "10/10 [==============================] - 0s 2ms/step - loss: 30.4254 - mae: 4.4481 - mse: 30.4254\n",
            "Epoch 77/100\n",
            "10/10 [==============================] - 0s 2ms/step - loss: 24.6212 - mae: 3.9558 - mse: 24.6212\n",
            "Epoch 78/100\n",
            "10/10 [==============================] - 0s 2ms/step - loss: 38.0602 - mae: 4.7020 - mse: 38.0602\n",
            "Epoch 79/100\n",
            "10/10 [==============================] - 0s 2ms/step - loss: 33.8843 - mae: 4.4055 - mse: 33.8843\n",
            "Epoch 80/100\n",
            "10/10 [==============================] - 0s 2ms/step - loss: 17.3954 - mae: 3.2088 - mse: 17.3954\n",
            "Epoch 81/100\n",
            "10/10 [==============================] - 0s 3ms/step - loss: 31.8302 - mae: 4.1091 - mse: 31.8302\n",
            "Epoch 82/100\n",
            "10/10 [==============================] - 0s 2ms/step - loss: 22.6191 - mae: 3.7457 - mse: 22.6191\n",
            "Epoch 83/100\n",
            "10/10 [==============================] - 0s 2ms/step - loss: 28.3615 - mae: 4.2307 - mse: 28.3615\n",
            "Epoch 84/100\n",
            "10/10 [==============================] - 0s 2ms/step - loss: 25.3074 - mae: 4.2331 - mse: 25.3074\n",
            "Epoch 85/100\n",
            "10/10 [==============================] - 0s 3ms/step - loss: 25.7569 - mae: 4.0098 - mse: 25.7569\n",
            "Epoch 86/100\n",
            "10/10 [==============================] - 0s 2ms/step - loss: 28.1405 - mae: 4.2814 - mse: 28.1405\n",
            "Epoch 87/100\n",
            "10/10 [==============================] - 0s 3ms/step - loss: 29.6598 - mae: 4.4159 - mse: 29.6598\n",
            "Epoch 88/100\n",
            "10/10 [==============================] - 0s 2ms/step - loss: 28.4429 - mae: 4.2935 - mse: 28.4429\n",
            "Epoch 89/100\n",
            "10/10 [==============================] - 0s 2ms/step - loss: 31.2694 - mae: 4.3041 - mse: 31.2694\n",
            "Epoch 90/100\n",
            "10/10 [==============================] - 0s 2ms/step - loss: 30.6946 - mae: 4.5416 - mse: 30.6946\n",
            "Epoch 91/100\n",
            "10/10 [==============================] - 0s 3ms/step - loss: 23.6464 - mae: 3.8422 - mse: 23.6464\n",
            "Epoch 92/100\n",
            "10/10 [==============================] - 0s 2ms/step - loss: 24.2666 - mae: 3.7608 - mse: 24.2666\n",
            "Epoch 93/100\n",
            "10/10 [==============================] - 0s 2ms/step - loss: 28.1362 - mae: 4.0631 - mse: 28.1362\n",
            "Epoch 94/100\n",
            "10/10 [==============================] - 0s 2ms/step - loss: 32.4619 - mae: 4.5792 - mse: 32.4619\n",
            "Epoch 95/100\n",
            "10/10 [==============================] - 0s 2ms/step - loss: 29.5151 - mae: 4.1188 - mse: 29.5151\n",
            "Epoch 96/100\n",
            "10/10 [==============================] - 0s 3ms/step - loss: 12.6134 - mae: 2.6758 - mse: 12.6134\n",
            "Epoch 97/100\n",
            "10/10 [==============================] - 0s 2ms/step - loss: 42.2904 - mae: 5.3647 - mse: 42.2904\n",
            "Epoch 98/100\n",
            "10/10 [==============================] - 0s 2ms/step - loss: 15.7383 - mae: 3.0463 - mse: 15.7383\n",
            "Epoch 99/100\n",
            "10/10 [==============================] - 0s 2ms/step - loss: 28.3452 - mae: 3.8973 - mse: 28.3452\n",
            "Epoch 100/100\n",
            "10/10 [==============================] - 0s 2ms/step - loss: 26.5886 - mae: 4.1160 - mse: 26.5886\n"
          ],
          "name": "stdout"
        },
        {
          "output_type": "execute_result",
          "data": {
            "text/plain": [
              "<tensorflow.python.keras.callbacks.History at 0x7fe029861e90>"
            ]
          },
          "metadata": {
            "tags": []
          },
          "execution_count": 65
        }
      ]
    },
    {
      "cell_type": "markdown",
      "metadata": {
        "id": "TLHVylo0oA8D"
      },
      "source": [
        "## 딥러닝 모델로 평가하기"
      ]
    },
    {
      "cell_type": "code",
      "metadata": {
        "id": "LZgMTkfyoA8E",
        "colab": {
          "base_uri": "https://localhost:8080/"
        },
        "outputId": "f2696bb7-e1a8-4652-bb18-557ae992664c"
      },
      "source": [
        "model.evaluate(test_dataset,test_label)"
      ],
      "execution_count": null,
      "outputs": [
        {
          "output_type": "stream",
          "text": [
            "3/3 [==============================] - 0s 4ms/step - loss: 21.0113 - mae: 3.6235 - mse: 21.0113\n"
          ],
          "name": "stdout"
        },
        {
          "output_type": "execute_result",
          "data": {
            "text/plain": [
              "[21.011262893676758, 3.6235039234161377, 21.011262893676758]"
            ]
          },
          "metadata": {
            "tags": []
          },
          "execution_count": 66
        }
      ]
    },
    {
      "cell_type": "markdown",
      "metadata": {
        "id": "-DjI25AroA8E"
      },
      "source": [
        "## 딥러닝 모델의 예측하기"
      ]
    },
    {
      "cell_type": "code",
      "metadata": {
        "id": "Ea8xdCjtoA8E",
        "colab": {
          "base_uri": "https://localhost:8080/"
        },
        "outputId": "dc8725d6-3ed5-49b4-e09b-09aeb36a1c25"
      },
      "source": [
        "predict_labels = model.predict(test_dataset).flatten()\n",
        "predict_labels[:5]"
      ],
      "execution_count": null,
      "outputs": [
        {
          "output_type": "execute_result",
          "data": {
            "text/plain": [
              "array([10.922624, 11.919063, 21.772043, 21.360682, 13.562975],\n",
              "      dtype=float32)"
            ]
          },
          "metadata": {
            "tags": []
          },
          "execution_count": 67
        }
      ]
    },
    {
      "cell_type": "markdown",
      "metadata": {
        "id": "vHOW_WR1oA8F"
      },
      "source": [
        "## 딥러닝 모델의 예측결과 평가하기"
      ]
    },
    {
      "cell_type": "code",
      "metadata": {
        "id": "hWeaWADmoA8F",
        "colab": {
          "base_uri": "https://localhost:8080/",
          "height": 458
        },
        "outputId": "e2312735-3da4-45b6-e0ae-efb0454a291f"
      },
      "source": [
        "sns.jointplot(x=test_label, y= predict_labels, kind=\"reg\")"
      ],
      "execution_count": null,
      "outputs": [
        {
          "output_type": "execute_result",
          "data": {
            "text/plain": [
              "<seaborn.axisgrid.JointGrid at 0x7fe02067f7d0>"
            ]
          },
          "metadata": {
            "tags": []
          },
          "execution_count": 70
        },
        {
          "output_type": "display_data",
          "data": {
            "image/png": "[encoded data removed]",
            "text/plain": [
              "<Figure size 432x432 with 3 Axes>"
            ]
          },
          "metadata": {
            "tags": [],
            "needs_background": "light"
          }
        }
      ]
    },
    {
      "cell_type": "code",
      "metadata": {
        "id": "BtYhMAQZoA8F"
      },
      "source": [
        ""
      ],
      "execution_count": null,
      "outputs": []
    }
  ]
}